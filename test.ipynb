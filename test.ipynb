{
 "cells": [
  {
   "cell_type": "code",
   "execution_count": 1,
   "metadata": {},
   "outputs": [],
   "source": [
    "import numpy as np"
   ]
  },
  {
   "cell_type": "code",
   "execution_count": 3,
   "metadata": {},
   "outputs": [
    {
     "name": "stdout",
     "output_type": "stream",
     "text": [
      "[[[724  35]\n",
      "  [ 55 466]\n",
      "  [600 568]]\n",
      "\n",
      " [[302 652]\n",
      "  [167 877]\n",
      "  [949 134]]]\n"
     ]
    }
   ],
   "source": [
    "import random\n",
    "w = np.array(random.sample(range(1000), 12)) \n",
    "# одномерный массив из 12 случайных чисел от 1 до 1000\n",
    "w = w.reshape((2,2,3)) # превратим w в трёхмерную матрицу\n",
    "mat = w.transpose(0,2,1)\n",
    "print(mat)"
   ]
  },
  {
   "cell_type": "code",
   "execution_count": 4,
   "metadata": {},
   "outputs": [
    {
     "name": "stdout",
     "output_type": "stream",
     "text": [
      "[[724]\n",
      " [ 35]\n",
      " [ 55]\n",
      " [466]\n",
      " [600]\n",
      " [568]\n",
      " [302]\n",
      " [652]\n",
      " [167]\n",
      " [877]\n",
      " [949]\n",
      " [134]]\n"
     ]
    }
   ],
   "source": [
    "# ДЗ\n",
    "# Массив, который нужно было создать в предыдущей задаче\n",
    "# хранится в переменной mat. \n",
    "# Превратите его в вертикальный вектор и напечатайте\n",
    "\n",
    "w = mat.reshape(12, 1)\n",
    "print(w)"
   ]
  },
  {
   "cell_type": "code",
   "execution_count": null,
   "metadata": {},
   "outputs": [],
   "source": [
    "#ДЗ\n",
    "Задача: считайте данные из файла boston_houses.csv и посчитайте их средние значения.\n",
    "\n",
    "Файл, из которого нужно считать данные, находится локально,\n",
    "Первая строчка в файле — названия столбцов, \n",
    "остальные строки — числовые данные (то есть каждая строка, кроме первой,\n",
    "состоит из последовательности вещественных чисел, разделённых запятыми).\n",
    "\n",
    "Посчитайте и напечатайте вектор из средних значений вдоль столбцов входных данных. \n",
    "То есть если файл с входными данными выглядит как\n",
    "\n",
    "a,b,c,d\n",
    "1.5,3,4,6\n",
    "2.5,2,7.5,4\n",
    "3.5,1,3.5,2\n",
    "\n",
    "то ответом будет\n",
    "\n",
    "[ 2.5  2.   5.   4. ]"
   ]
  },
  {
   "cell_type": "code",
   "execution_count": 5,
   "metadata": {},
   "outputs": [
    {
     "name": "stdout",
     "output_type": "stream",
     "text": [
      "[22.53280632  3.61352356 11.36363636  0.06916996  0.55469506  6.28463439\n",
      "  3.79504269]\n"
     ]
    }
   ],
   "source": [
    "sbux = np.loadtxt(\"boston_houses\", skiprows=1, delimiter=\",\") \n",
    "print(sbux.mean(axis=0))"
   ]
  },
  {
   "cell_type": "code",
   "execution_count": 6,
   "metadata": {},
   "outputs": [
    {
     "name": "stdout",
     "output_type": "stream",
     "text": [
      "[[2. 1. 0. 0.]\n",
      " [0. 2. 1. 0.]\n",
      " [0. 0. 2. 1.]]\n"
     ]
    }
   ],
   "source": [
    "#      ДЗ (разминка)\n",
    "#Создайте и напечатайте (с помощью функции print) \n",
    "#массив класса np.ndarray ширины 4 и высоты 3\n",
    "#с двойками на главной диагонали и единицами на \n",
    "#первой диагонали над главной\n",
    "#Обратите внимание на то, что мы используем Python 3,\n",
    "#где print() принимает аргументы в скобках.\n",
    "#Подсказка: простым путём может быть использование\n",
    "#сложения и умножения на константу.\n",
    "#просто подставьте нужные значение вместо ..\n",
    "\n",
    "a = np.eye(3, 4, k=0)\n",
    "b = np.eye(3, 4, k=1)\n",
    "print(b+2*a)\n"
   ]
  },
  {
   "cell_type": "code",
   "execution_count": null,
   "metadata": {},
   "outputs": [],
   "source": []
  }
 ],
 "metadata": {
  "kernelspec": {
   "display_name": "Python 3",
   "language": "python",
   "name": "python3"
  },
  "language_info": {
   "codemirror_mode": {
    "name": "ipython",
    "version": 3
   },
   "file_extension": ".py",
   "mimetype": "text/x-python",
   "name": "python",
   "nbconvert_exporter": "python",
   "pygments_lexer": "ipython3",
   "version": "3.7.5"
  }
 },
 "nbformat": 4,
 "nbformat_minor": 2
}
